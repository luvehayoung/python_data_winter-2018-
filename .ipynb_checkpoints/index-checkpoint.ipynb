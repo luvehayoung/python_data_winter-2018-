{
 "cells": [
  {
   "cell_type": "markdown",
   "metadata": {},
   "source": [
    "# Hello\n",
    "\n",
    "This is my first project\n",
    "\n",
    "\n",
    "<ul>\n",
    "    <li><a href = \"./day1.html\">day1</a></li>\n",
    "    <li><a href = \"./genesis_crawling.html\">genesis_crawling(beautifulsoup을 이용해서 커뮤니티 게시를 가져오기</a></li>\n",
    "    <li><a href = \"./day2.html\">day2 - selenium을 이용한 크롤링</a></li>\n",
    "    <li><a href = \"./day3.html\">day3 - 네이버 댓글 가져오기</a></li>\n",
    "    <li><a href = \"./day3.html\">day3 - 네이버 댓글 가져오기</a></li>\n",
    "    <li><a href = \"./day4.html\">day4 - 댓글 크롤링 코드 정리</a></li>\n",
    "    <li><a href = \"./Titanic.html\">day5 - kaggle 타이타닉 예측 기본</a></li>\n",
    "</ul>\n"
   ]
  },
  {
   "cell_type": "code",
   "execution_count": null,
   "metadata": {
    "collapsed": true
   },
   "outputs": [],
   "source": []
  }
 ],
 "metadata": {
  "kernelspec": {
   "display_name": "Python 3",
   "language": "python",
   "name": "python3"
  },
  "language_info": {
   "codemirror_mode": {
    "name": "ipython",
    "version": 3
   },
   "file_extension": ".py",
   "mimetype": "text/x-python",
   "name": "python",
   "nbconvert_exporter": "python",
   "pygments_lexer": "ipython3",
   "version": "3.6.3"
  }
 },
 "nbformat": 4,
 "nbformat_minor": 2
}
