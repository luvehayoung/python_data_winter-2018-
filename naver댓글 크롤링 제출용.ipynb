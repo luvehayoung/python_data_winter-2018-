{
 "cells": [
  {
   "cell_type": "markdown",
   "metadata": {},
   "source": [
    "# 네이버 댓글 크롤링(제네시스 평판 조사)\n",
    "(기간 2017년 9월 ~ 2018년 1월 각 브랜드별 282개의 댓글 분석)"
   ]
  },
  {
   "cell_type": "code",
   "execution_count": null,
   "metadata": {
    "collapsed": true
   },
   "outputs": [],
   "source": [
    "import numpy as np\n",
    "import pandas as pd\n",
    "# selenium \n",
    "from selenium import webdriver\n",
    "from selenium.webdriver.common.keys import Keys\n",
    "from selenium.common.exceptions import StaleElementReferenceException,NoSuchElementException,WebDriverException\n",
    "import time\n",
    "sec = 0.1"
   ]
  },
  {
   "cell_type": "markdown",
   "metadata": {},
   "source": [
    "#### 네이버 자동차에서 댓글 크롤링"
   ]
  },
  {
   "cell_type": "code",
   "execution_count": null,
   "metadata": {
    "collapsed": true
   },
   "outputs": [],
   "source": [
    "#replys\n",
    "data = {}"
   ]
  },
  {
   "cell_type": "markdown",
   "metadata": {},
   "source": [
    "#### 네이버에서 댓글을 크롤링 해오는 함수 생성"
   ]
  },
  {
   "cell_type": "code",
   "execution_count": null,
   "metadata": {
    "collapsed": true
   },
   "outputs": [],
   "source": [
    "#모듈화\n",
    "def naver_reply_crawler(url):\n",
    "    # chrome web driver생성\n",
    "    driver = webdriver.Chrome('C:/Users/Seo/chromedriver_win32/chromedriver.exe')\n",
    "   \n",
    "    #url 로딩\n",
    "    driver.get(url)\n",
    "    \n",
    "    #게시글 댓글 10페이지까지만 읽어오기\n",
    "    #댓글 첫페이지는 13개씩 보이고, 그다음부터 10개씩 보임\n",
    "    replys = []\n",
    "    for i in range(13):\n",
    "        try:\n",
    "            replys.append(\n",
    "                driver.find_element_by_css_selector('.u_cbox_content_wrap li:nth-child('+str(i+1)+') .u_cbox_text_wrap .u_cbox_contents').text\n",
    "            )\n",
    "        except:\n",
    "                replys.append('차단된 댓글입니다')\n",
    "               \n",
    "    #다음 페이지로이동\n",
    "    elem = driver.find_element_by_css_selector('.u_cbox_page_wrap a:nth-child(4)')\n",
    "    elem.click()    \n",
    "    \n",
    "    for j in range(5,13):\n",
    "        for i in range(10):\n",
    "            try: \n",
    "                replys.append(\n",
    "                    driver.find_element_by_css_selector('.u_cbox_content_wrap li:nth-child('+str(i+1)+') .u_cbox_text_wrap .u_cbox_contents').text\n",
    "                )\n",
    "            except:\n",
    "                replys.append('차단된 댓글입니다')\n",
    "                \n",
    "            \n",
    "        elem = driver.find_element_by_css_selector('.u_cbox_page_wrap a:nth-child('+str(j)+')')\n",
    "        elem.click()\n",
    "        time.sleep(sec)\n",
    "    driver.quit()   \n",
    "    return replys\n"
   ]
  },
  {
   "cell_type": "markdown",
   "metadata": {},
   "source": [
    "#### 댓글을 가져올 브랜드의 페이지 url 및 차종이름"
   ]
  },
  {
   "cell_type": "code",
   "execution_count": null,
   "metadata": {
    "collapsed": true
   },
   "outputs": [],
   "source": [
    "page_list = [\n",
    "    \"https://auto.naver.com/car/talk.nhn?yearsId=121603\", #제네시스 2018 g80\n",
    "    \"https://auto.naver.com/car/talk.nhn?yearsId=121449\", #제네시스 2017 g70\n",
    "    \"https://auto.naver.com/car/talk.nhn?yearsId=69265\", #제네시스 2017 eq900\n",
    "    \"https://auto.naver.com/car/talk.nhn?yearsId=60007\", #2016 bmw 3 series \n",
    "     \"https://auto.naver.com/car/talk.nhn?yearsId=121215\", #2018 bmw 5 series\n",
    "    \"https://auto.naver.com/car/talk.nhn?yearsId=68073\", #2017 bmw 7 series\n",
    "    \"https://auto.naver.com/car/talk.nhn?yearsId=61925\", #2016 벤츠 C클래스\n",
    "    \"https://auto.naver.com/car/talk.nhn?yearsId=120219\", #2018 벤츠 S클래스\n",
    "    \"https://auto.naver.com/car/talk.nhn?yearsId=61349\", #2016 벤츠 E 클래스\n",
    "    \n",
    "    \n",
    "]\n",
    "page_name = [\n",
    "    '제네시스 2017 g70',\n",
    "    '제네시스 2018 g80',\n",
    "    '제네시스 2017 eq900',\n",
    "    '2016 bmw 3 series',\n",
    "    '2018 bmw 5 series',\n",
    "    '2017 bmw 7 series',\n",
    "    '2016 벤츠 C클래스', \n",
    "    '2018 벤츠 S클래스 L',\n",
    "    '2016 벤츠 E 클래스'\n",
    "]"
   ]
  },
  {
   "cell_type": "markdown",
   "metadata": {},
   "source": [
    "#### 크롤링 시작"
   ]
  },
  {
   "cell_type": "code",
   "execution_count": null,
   "metadata": {
    "collapsed": true
   },
   "outputs": [],
   "source": [
    "for i in range(len(page_list)):\n",
    "    reply = naver_reply_crawler(page_list[i])\n",
    "    data[page_name[i]] = reply"
   ]
  },
  {
   "cell_type": "code",
   "execution_count": null,
   "metadata": {
    "collapsed": true
   },
   "outputs": [],
   "source": [
    "data"
   ]
  },
  {
   "cell_type": "markdown",
   "metadata": {},
   "source": [
    "#### csv 파일로 저장"
   ]
  },
  {
   "cell_type": "code",
   "execution_count": null,
   "metadata": {
    "collapsed": true
   },
   "outputs": [],
   "source": [
    "columns = page_name\n",
    "df = pd.DataFrame(data, columns=columns)\n",
    "df "
   ]
  },
  {
   "cell_type": "code",
   "execution_count": null,
   "metadata": {
    "collapsed": true
   },
   "outputs": [],
   "source": [
    "df.to_csv('result.csv')"
   ]
  },
  {
   "cell_type": "code",
   "execution_count": null,
   "metadata": {
    "collapsed": true
   },
   "outputs": [],
   "source": []
  },
  {
   "cell_type": "code",
   "execution_count": null,
   "metadata": {
    "collapsed": true
   },
   "outputs": [],
   "source": []
  }
 ],
 "metadata": {
  "kernelspec": {
   "display_name": "Python 3",
   "language": "python",
   "name": "python3"
  },
  "language_info": {
   "codemirror_mode": {
    "name": "ipython",
    "version": 3
   },
   "file_extension": ".py",
   "mimetype": "text/x-python",
   "name": "python",
   "nbconvert_exporter": "python",
   "pygments_lexer": "ipython3",
   "version": "3.6.3"
  }
 },
 "nbformat": 4,
 "nbformat_minor": 2
}
