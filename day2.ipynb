{
 "cells": [
  {
   "cell_type": "markdown",
   "metadata": {},
   "source": [
    "# day2"
   ]
  },
  {
   "cell_type": "markdown",
   "metadata": {},
   "source": [
    "http://blog.naver.com/PostView.nhn?blogId=nonamed0000&logNo=220977390647&redirect=Dlog&widgetTypeCall=true"
   ]
  },
  {
   "cell_type": "code",
   "execution_count": 1,
   "metadata": {
    "collapsed": true
   },
   "outputs": [],
   "source": [
    "# selenium \n",
    "from selenium import webdriver\n",
    "from selenium.webdriver.common.keys import Keys\n",
    "\n",
    "import numpy as np\n",
    "import pandas as pd\n",
    "\n",
    "import time\n",
    "sec = 50"
   ]
  },
  {
   "cell_type": "code",
   "execution_count": 2,
   "metadata": {
    "collapsed": true
   },
   "outputs": [],
   "source": [
    "# chrome web driver생성\n",
    "driver = webdriver.Chrome('C:/Users/Seo/chromedriver_win32/chromedriver.exe')"
   ]
  },
  {
   "cell_type": "code",
   "execution_count": 3,
   "metadata": {
    "collapsed": true
   },
   "outputs": [],
   "source": [
    "#url 로딩\n",
    "driver.get('https://global.uos.ac.kr/iiceIntro/index.do')"
   ]
  },
  {
   "cell_type": "code",
   "execution_count": 4,
   "metadata": {
    "collapsed": true
   },
   "outputs": [],
   "source": [
    "#체험수기 페이지로 이동하기\n",
    "elem = driver.find_element_by_css_selector('.cont a:nth-child(2)')\n",
    "elem.click()\n"
   ]
  },
  {
   "cell_type": "code",
   "execution_count": 5,
   "metadata": {
    "collapsed": true
   },
   "outputs": [],
   "source": [
    "elem = driver.find_element_by_css_selector('#gnb li:nth-child(3) a')\n",
    "elem.click()"
   ]
  },
  {
   "cell_type": "code",
   "execution_count": 6,
   "metadata": {
    "collapsed": true
   },
   "outputs": [],
   "source": [
    "elem = driver.find_element_by_css_selector('.floor:nth-child(3) > .cont > ul > li:nth-child(3) a')\n",
    "elem.click()"
   ]
  },
  {
   "cell_type": "code",
   "execution_count": 7,
   "metadata": {
    "collapsed": true
   },
   "outputs": [],
   "source": [
    "region = []\n",
    "title = []\n",
    "writer = []\n",
    "date = []\n",
    "email = []\n",
    "file_name = []\n",
    "\n",
    "#첫번째 글\n",
    "elem = driver.find_element_by_css_selector('tbody tr:nth-child(1) td:nth-child(3) a')\n",
    "elem.click()\n",
    "\n",
    "#첨부파일 수\n",
    "#게시글 다운로드\n",
    "#elem = driver.find_element_by_css_selector('tbody tr:nth-child(5) a')\n",
    "elem = driver.find_elements_by_xpath(\"//a[@class='dbtn']\")\n",
    "elem_length = len(elem) - 1\n",
    "\n",
    "for i in range(elem_length):\n",
    "    #지역\n",
    "    region.append(driver.find_element_by_css_selector('tbody tr:nth-child(1) td').text)\n",
    "\n",
    "    #제목\n",
    "    title.append(driver.find_element_by_css_selector('tbody tr:nth-child(2) td').text)\n",
    "\n",
    "    #작성자\n",
    "    writer.append(driver.find_element_by_css_selector('tbody tr:nth-child(3) td:nth-child(2)').text)\n",
    "\n",
    "    #날짜\n",
    "    date.append(driver.find_element_by_css_selector('tbody tr:nth-child(3) td:nth-child(4)').text)\n",
    "\n",
    "    #이메일\n",
    "    email.append(driver.find_element_by_css_selector('tbody tr:nth-child(3) td:nth-child(6)').text)\n",
    "       \n",
    "    elem = driver.find_element_by_css_selector('tbody tr:nth-child(5) a:nth-child('+str(i+1)+')')\n",
    "    elem.click()\n",
    "    \n",
    "    time.sleep(sec)"
   ]
  },
  {
   "cell_type": "code",
   "execution_count": null,
   "metadata": {
    "collapsed": true
   },
   "outputs": [],
   "source": [
    "#이전 글\n",
    "for i in range(917):\n",
    "    #이전 글 선택\n",
    "    elem = driver.find_element_by_css_selector('.pageTable .l10 a')\n",
    "    elem.click()\n",
    "    \n",
    "    # 0 1 2\n",
    "    # 1 3 5\n",
    "    # 1 2 3    \n",
    "    #첨부파일 수\n",
    "    #게시글 다운로드\n",
    "    #elem = driver.find_element_by_css_selector('tbody tr:nth-child(5) a')\n",
    "    elem = driver.find_elements_by_xpath(\"//a[@class='dbtn']\")\n",
    "    elem_length = len(elem) - 1\n",
    "    \n",
    "    \n",
    "    #정보들\n",
    "    #지역\n",
    "    region.append(driver.find_element_by_css_selector('tbody tr:nth-child(1) td').text)\n",
    "\n",
    "    #제목\n",
    "    title.append(driver.find_element_by_css_selector('tbody tr:nth-child(2) td').text)\n",
    "\n",
    "    #작성자\n",
    "    writer.append(driver.find_element_by_css_selector('tbody tr:nth-child(3) td:nth-child(2)').text)\n",
    "\n",
    "    #날짜\n",
    "    date.append(driver.find_element_by_css_selector('tbody tr:nth-child(3) td:nth-child(4)').text)\n",
    "\n",
    "    #이메일\n",
    "    email.append(driver.find_element_by_css_selector('tbody tr:nth-child(3) td:nth-child(6)').text)\n",
    "    \n",
    "    \n",
    "    gap = 1\n",
    "    for i in range(elem_length):\n",
    "        time.sleep(20)\n",
    "        elem = driver.find_element_by_css_selector('tbody tr:nth-child(5) a:nth-child('+str(i+gap)+')')\n",
    "        elem.click()\n",
    "        gap+=1"
   ]
  },
  {
   "cell_type": "code",
   "execution_count": null,
   "metadata": {
    "collapsed": true
   },
   "outputs": [],
   "source": [
    "print(region)"
   ]
  },
  {
   "cell_type": "code",
   "execution_count": null,
   "metadata": {
    "collapsed": true
   },
   "outputs": [],
   "source": [
    "print(file_count)"
   ]
  },
  {
   "cell_type": "code",
   "execution_count": null,
   "metadata": {
    "collapsed": true
   },
   "outputs": [],
   "source": [
    "import time\n",
    "sec = 50\n",
    "time.sleep(sec)\n"
   ]
  },
  {
   "cell_type": "code",
   "execution_count": null,
   "metadata": {
    "collapsed": true
   },
   "outputs": [],
   "source": [
    "print(region)\n",
    "print(title)"
   ]
  },
  {
   "cell_type": "code",
   "execution_count": null,
   "metadata": {
    "collapsed": true
   },
   "outputs": [],
   "source": [
    "\n",
    "'''\n",
    "import os\n",
    "import shutil\n",
    "path = 'C:/Users/Seo/Downloads/'\n",
    "\n",
    "count = 0\n",
    "i = 0\n",
    "\n",
    "#filename = max([f for f in os.listdir(path)], key=os.path.getctime)\n",
    "filename = []\n",
    "filename = os.listdir(path)\n",
    "\n",
    "for file in filename:\n",
    "    print(file)\n",
    "    \n",
    "for index in range(len(file)-1):\n",
    "    os.rename(path+file[index], path+region[i]+'_'+title[i]+'_'+writer[i]+'_'+date[i]+str(count+1)+file[index][-4:])\n",
    "\n",
    "    count += 1\n",
    "    \n",
    "    if count == file_count[i]:\n",
    "        i += 1\n",
    "        count = 0\n",
    "'''    "
   ]
  },
  {
   "cell_type": "code",
   "execution_count": null,
   "metadata": {
    "collapsed": true
   },
   "outputs": [],
   "source": []
  }
 ],
 "metadata": {
  "kernelspec": {
   "display_name": "Python 3",
   "language": "python",
   "name": "python3"
  }
 },
 "nbformat": 4,
 "nbformat_minor": 2
}
